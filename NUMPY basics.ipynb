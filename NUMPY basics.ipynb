{
 "cells": [
  {
   "cell_type": "markdown",
   "id": "3ecafb63-239a-4c72-a8ea-debe8c60cc32",
   "metadata": {},
   "source": [
    "## 创建数组"
   ]
  },
  {
   "cell_type": "code",
   "execution_count": 2,
   "id": "28378a41-72ff-4c3a-800e-6bd1bb50e780",
   "metadata": {},
   "outputs": [],
   "source": [
    "import numpy as np"
   ]
  },
  {
   "cell_type": "code",
   "execution_count": 3,
   "id": "7dc6a818-7aba-4d32-9e24-02b8c7c64250",
   "metadata": {},
   "outputs": [
    {
     "data": {
      "text/plain": [
       "array([[ 5. , 55. ,  6. ],\n",
       "       [ 5. ,  5.8,  9. ]])"
      ]
     },
     "execution_count": 3,
     "metadata": {},
     "output_type": "execute_result"
    }
   ],
   "source": [
    "array1 = np.array([3,5,8])\n",
    "arr2 = np.array([[5,55,6],[5,5.8,9]])\n",
    "array1\n",
    "arr2"
   ]
  },
  {
   "cell_type": "code",
   "execution_count": 4,
   "id": "f3bfe641-5d84-41fd-9e67-f3d704f2caf0",
   "metadata": {},
   "outputs": [
    {
     "data": {
      "text/plain": [
       "array([3, 5, 8])"
      ]
     },
     "execution_count": 4,
     "metadata": {},
     "output_type": "execute_result"
    }
   ],
   "source": [
    "array1"
   ]
  },
  {
   "cell_type": "code",
   "execution_count": 5,
   "id": "7808cf30-978c-4ed2-bcb1-2f24155c8ae2",
   "metadata": {},
   "outputs": [
    {
     "data": {
      "text/plain": [
       "array([[ 5. , 55. ,  6. ],\n",
       "       [ 5. ,  5.8,  9. ]])"
      ]
     },
     "execution_count": 5,
     "metadata": {},
     "output_type": "execute_result"
    }
   ],
   "source": [
    "array1\n",
    "arr2"
   ]
  },
  {
   "cell_type": "code",
   "execution_count": 6,
   "id": "c19dcb2b-55da-43bd-b200-2d27d9677120",
   "metadata": {},
   "outputs": [
    {
     "name": "stdout",
     "output_type": "stream",
     "text": [
      "(2, 3)\n",
      "2\n",
      "float64\n"
     ]
    }
   ],
   "source": [
    "print(arr2.shape)\n",
    "print(arr2.ndim)\n",
    "print(arr2.dtype)"
   ]
  },
  {
   "cell_type": "code",
   "execution_count": 7,
   "id": "519e282e-98df-4d57-a741-c8bc49ac5c1b",
   "metadata": {},
   "outputs": [
    {
     "name": "stdout",
     "output_type": "stream",
     "text": [
      "[0 1 2 3 4 5 6 7 8 9]\n",
      "[0 1 2 3 4 5 6 7 8 9]\n",
      "[0.  0.1 0.2 0.3 0.4 0.5 0.6 0.7 0.8 0.9]\n"
     ]
    }
   ],
   "source": [
    "arr3=np.arange(0,10)\n",
    "arr4 = np.arange(10)\n",
    "arr5 =np.arange(0,1,0.1)\n",
    "print(arr3)\n",
    "print(arr4)\n",
    "print(arr5)"
   ]
  },
  {
   "cell_type": "code",
   "execution_count": 8,
   "id": "cf15ef17-3611-4f77-9d12-909e03b5a467",
   "metadata": {},
   "outputs": [
    {
     "name": "stdout",
     "output_type": "stream",
     "text": [
      "alex\n",
      "wupeiqi\n"
     ]
    }
   ],
   "source": [
    "name = \"wupeiqi\"\n",
    "new_name = name\n",
    "\n",
    "name = \"alex\"\n",
    "print(name)\n",
    "print(new_name)"
   ]
  },
  {
   "cell_type": "code",
   "execution_count": 9,
   "id": "2e11bc48-4cc2-43ce-9850-0e235ef30229",
   "metadata": {},
   "outputs": [
    {
     "name": "stdout",
     "output_type": "stream",
     "text": [
      "Help on built-in function arange in module numpy:\n",
      "\n",
      "arange(...)\n",
      "    arange([start,] stop[, step,], dtype=None, *, like=None)\n",
      "    \n",
      "    Return evenly spaced values within a given interval.\n",
      "    \n",
      "    ``arange`` can be called with a varying number of positional arguments:\n",
      "    \n",
      "    * ``arange(stop)``: Values are generated within the half-open interval\n",
      "      ``[0, stop)`` (in other words, the interval including `start` but\n",
      "      excluding `stop`).\n",
      "    * ``arange(start, stop)``: Values are generated within the half-open\n",
      "      interval ``[start, stop)``.\n",
      "    * ``arange(start, stop, step)`` Values are generated within the half-open\n",
      "      interval ``[start, stop)``, with spacing between values given by\n",
      "      ``step``.\n",
      "    \n",
      "    For integer arguments the function is roughly equivalent to the Python\n",
      "    built-in :py:class:`range`, but returns an ndarray rather than a ``range``\n",
      "    instance.\n",
      "    \n",
      "    When using a non-integer step, such as 0.1, it is often better to use\n",
      "    `numpy.linspace`.\n",
      "    \n",
      "    See the Warning sections below for more information.\n",
      "    \n",
      "    Parameters\n",
      "    ----------\n",
      "    start : integer or real, optional\n",
      "        Start of interval.  The interval includes this value.  The default\n",
      "        start value is 0.\n",
      "    stop : integer or real\n",
      "        End of interval.  The interval does not include this value, except\n",
      "        in some cases where `step` is not an integer and floating point\n",
      "        round-off affects the length of `out`.\n",
      "    step : integer or real, optional\n",
      "        Spacing between values.  For any output `out`, this is the distance\n",
      "        between two adjacent values, ``out[i+1] - out[i]``.  The default\n",
      "        step size is 1.  If `step` is specified as a position argument,\n",
      "        `start` must also be given.\n",
      "    dtype : dtype, optional\n",
      "        The type of the output array.  If `dtype` is not given, infer the data\n",
      "        type from the other input arguments.\n",
      "    like : array_like, optional\n",
      "        Reference object to allow the creation of arrays which are not\n",
      "        NumPy arrays. If an array-like passed in as ``like`` supports\n",
      "        the ``__array_function__`` protocol, the result will be defined\n",
      "        by it. In this case, it ensures the creation of an array object\n",
      "        compatible with that passed in via this argument.\n",
      "    \n",
      "        .. versionadded:: 1.20.0\n",
      "    \n",
      "    Returns\n",
      "    -------\n",
      "    arange : ndarray\n",
      "        Array of evenly spaced values.\n",
      "    \n",
      "        For floating point arguments, the length of the result is\n",
      "        ``ceil((stop - start)/step)``.  Because of floating point overflow,\n",
      "        this rule may result in the last element of `out` being greater\n",
      "        than `stop`.\n",
      "    \n",
      "    Warnings\n",
      "    --------\n",
      "    The length of the output might not be numerically stable.\n",
      "    \n",
      "    Another stability issue is due to the internal implementation of\n",
      "    `numpy.arange`.\n",
      "    The actual step value used to populate the array is\n",
      "    ``dtype(start + step) - dtype(start)`` and not `step`. Precision loss\n",
      "    can occur here, due to casting or due to using floating points when\n",
      "    `start` is much larger than `step`. This can lead to unexpected\n",
      "    behaviour. For example::\n",
      "    \n",
      "      >>> np.arange(0, 5, 0.5, dtype=int)\n",
      "      array([0, 0, 0, 0, 0, 0, 0, 0, 0, 0])\n",
      "      >>> np.arange(-3, 3, 0.5, dtype=int)\n",
      "      array([-3, -2, -1,  0,  1,  2,  3,  4,  5,  6,  7,  8])\n",
      "    \n",
      "    In such cases, the use of `numpy.linspace` should be preferred.\n",
      "    \n",
      "    The built-in :py:class:`range` generates :std:doc:`Python built-in integers\n",
      "    that have arbitrary size <python:c-api/long>`, while `numpy.arange`\n",
      "    produces `numpy.int32` or `numpy.int64` numbers. This may result in\n",
      "    incorrect results for large integer values::\n",
      "    \n",
      "      >>> power = 40\n",
      "      >>> modulo = 10000\n",
      "      >>> x1 = [(n ** power) % modulo for n in range(8)]\n",
      "      >>> x2 = [(n ** power) % modulo for n in np.arange(8)]\n",
      "      >>> print(x1)\n",
      "      [0, 1, 7776, 8801, 6176, 625, 6576, 4001]  # correct\n",
      "      >>> print(x2)\n",
      "      [0, 1, 7776, 7185, 0, 5969, 4816, 3361]  # incorrect\n",
      "    \n",
      "    See Also\n",
      "    --------\n",
      "    numpy.linspace : Evenly spaced numbers with careful handling of endpoints.\n",
      "    numpy.ogrid: Arrays of evenly spaced numbers in N-dimensions.\n",
      "    numpy.mgrid: Grid-shaped arrays of evenly spaced numbers in N-dimensions.\n",
      "    :ref:`how-to-partition`\n",
      "    \n",
      "    Examples\n",
      "    --------\n",
      "    >>> np.arange(3)\n",
      "    array([0, 1, 2])\n",
      "    >>> np.arange(3.0)\n",
      "    array([ 0.,  1.,  2.])\n",
      "    >>> np.arange(3,7)\n",
      "    array([3, 4, 5, 6])\n",
      "    >>> np.arange(3,7,2)\n",
      "    array([3, 5])\n",
      "\n"
     ]
    }
   ],
   "source": [
    "help(np.arange)"
   ]
  },
  {
   "cell_type": "code",
   "execution_count": 10,
   "id": "8b5bbfa8-85cc-459a-8113-0f45e09d9d41",
   "metadata": {},
   "outputs": [],
   "source": [
    "arr6 = np.linspace(0,1,11)"
   ]
  },
  {
   "cell_type": "code",
   "execution_count": 11,
   "id": "d6401ad4-7c6f-40ac-867c-daafb7876a82",
   "metadata": {},
   "outputs": [
    {
     "name": "stdout",
     "output_type": "stream",
     "text": [
      "[0.  0.1 0.2 0.3 0.4 0.5 0.6 0.7 0.8 0.9 1. ]\n"
     ]
    }
   ],
   "source": [
    "print(arr6)"
   ]
  },
  {
   "cell_type": "code",
   "execution_count": 12,
   "id": "0389305d-71d2-4dd5-93e2-61aa3fbdbeb5",
   "metadata": {},
   "outputs": [
    {
     "name": "stdout",
     "output_type": "stream",
     "text": [
      "[[[0. 0. 0. 0. 0.]\n",
      "  [0. 0. 0. 0. 0.]\n",
      "  [0. 0. 0. 0. 0.]\n",
      "  [0. 0. 0. 0. 0.]]\n",
      "\n",
      " [[0. 0. 0. 0. 0.]\n",
      "  [0. 0. 0. 0. 0.]\n",
      "  [0. 0. 0. 0. 0.]\n",
      "  [0. 0. 0. 0. 0.]]\n",
      "\n",
      " [[0. 0. 0. 0. 0.]\n",
      "  [0. 0. 0. 0. 0.]\n",
      "  [0. 0. 0. 0. 0.]\n",
      "  [0. 0. 0. 0. 0.]]]\n"
     ]
    }
   ],
   "source": [
    "arr7=np.zeros([3,4,5])\n",
    "print(arr7)"
   ]
  },
  {
   "cell_type": "code",
   "execution_count": 13,
   "id": "9fa21d3f-dc94-45f3-9f04-944b22b61966",
   "metadata": {},
   "outputs": [
    {
     "name": "stdout",
     "output_type": "stream",
     "text": [
      "float64\n",
      "[1 4 4]\n",
      "<class 'numpy.ndarray'>\n"
     ]
    }
   ],
   "source": [
    "arr8=np.array([1,5,4],dtype = np.float64)\n",
    "arr9 = np.array([1,4.5,4])\n",
    "print(arr8.dtype)\n",
    "print(np.int32(arr9))\n",
    "print(type(arr8))"
   ]
  },
  {
   "cell_type": "code",
   "execution_count": 14,
   "id": "86c8cb34-7c9b-41ae-83bc-3f8f9e17d515",
   "metadata": {},
   "outputs": [
    {
     "name": "stdout",
     "output_type": "stream",
     "text": [
      "[0.11437417 0.52549964 0.43345758 0.89194303 0.21809007 0.54792222\n",
      " 0.20117879 0.76159023 0.3663948  0.94869918]\n",
      "[[0.23316959 0.31868149 0.63180491 0.21871104]\n",
      " [0.36070849 0.92882698 0.54336429 0.98848615]\n",
      " [0.57418953 0.42639919 0.713028   0.14941817]]\n",
      "[[[ 1.89088561 -0.94448274 -0.01279793 -1.32609315]\n",
      "  [-1.25007593  0.5271057   0.65952951 -1.42363612]\n",
      "  [-0.78848203 -0.69708369 -0.16843561  0.79442961]]\n",
      "\n",
      " [[ 0.80430204 -0.7511215   1.21321982  0.82973162]\n",
      "  [ 1.71336456  1.26199755  0.95288257  0.22905614]\n",
      "  [-0.68561816 -0.13110983  0.29604254 -0.74316748]]]\n"
     ]
    }
   ],
   "source": [
    "print(np.random.random(10))\n",
    "print(np.random.rand(3,4))#random的别名，早期形式（现已弃用）\n",
    "print(np.random.randn(2,3,4))"
   ]
  },
  {
   "cell_type": "code",
   "execution_count": 16,
   "id": "8a025d97-021c-4113-9735-db150c083ad5",
   "metadata": {},
   "outputs": [
    {
     "name": "stdout",
     "output_type": "stream",
     "text": [
      "[1.  2.3 3.5 6.5 4.3]\n"
     ]
    }
   ],
   "source": [
    "arrr1 = np.array([1,2.3,3.5,6.5,4.3])\n",
    "print(arrr1)"
   ]
  },
  {
   "cell_type": "code",
   "execution_count": 20,
   "id": "b3dd7c8f-7ff6-4439-b0a6-626247a6d60a",
   "metadata": {},
   "outputs": [
    {
     "name": "stdout",
     "output_type": "stream",
     "text": [
      "3.5 ()\n",
      "[3.5] (1,)\n"
     ]
    }
   ],
   "source": [
    "res1=arrr1[2]\n",
    "res2=arrr1[2:3]\n",
    "print(res1,res1.shape)\n",
    "print(res2,res2.shape)"
   ]
  },
  {
   "cell_type": "code",
   "execution_count": 26,
   "id": "d92eaa87-3e8c-40f8-9add-3b9377cdc551",
   "metadata": {},
   "outputs": [
    {
     "name": "stdout",
     "output_type": "stream",
     "text": [
      "[1.8 0.  5. ]\n",
      "[]\n",
      "[1.8 5. ]\n"
     ]
    }
   ],
   "source": [
    "ar2=np.array([1.8,0,5])\n",
    "print(ar2[[True,True,True]])\n",
    "print(ar2[[False,False,False]])\n",
    "\n",
    "index = ar2>1#留下大于1的元素+\n",
    "print(ar2[index])"
   ]
  },
  {
   "cell_type": "code",
   "execution_count": 32,
   "id": "99a1b9b6-d8e1-4085-8e51-fba35083c0df",
   "metadata": {},
   "outputs": [
    {
     "name": "stdout",
     "output_type": "stream",
     "text": [
      "[[ 1  2  3  4]\n",
      " [ 5  6  7  8]\n",
      " [ 9 10 11 12]]\n",
      "[1 5 9]\n",
      "[1 5 9]\n",
      "[[ 5  6  7  8]\n",
      " [ 9 10 11 12]]\n"
     ]
    }
   ],
   "source": [
    "ar3=np.arange(1,13).reshape([3,4])\n",
    "print(ar3)\n",
    "print(ar3[:,0])\n",
    "print(ar3[0:,0])\n",
    "print(ar3[ar3[:,0]>4,:])#对第一列中的每一个元素进行比较，检查它是否大于4。这会返回一个布尔数组，\n",
    "#其长度与 `ar3` 的行数相同。数组中的每个元素都是 `True` 或 `False`，表示对应行的第一列元素是否大于4。"
   ]
  },
  {
   "cell_type": "code",
   "execution_count": 38,
   "id": "421c0794-09fb-4cab-bd55-ade7440d4f4c",
   "metadata": {},
   "outputs": [
    {
     "name": "stdout",
     "output_type": "stream",
     "text": [
      "[  0.  50. 100.]\n",
      "[  0.  50. 100.]\n",
      "[[  0.          70.71067812 141.42135624]\n",
      " [ 70.71067812   0.          70.71067812]\n",
      " [141.42135624  70.71067812   0.        ]]\n"
     ]
    }
   ],
   "source": [
    "#求解距离矩阵\n",
    "n = 3\n",
    "x=np.linspace(0,100,n)\n",
    "y=np.linspace(0,100,n)\n",
    "\n",
    "dist = np.zeros([n,n])\n",
    "\n",
    "for i in range(n):\n",
    "    for j in range(n):\n",
    "        dist[i,j]=np.sqrt((x[i]-x[j])**2+(y[i]-y[j])**2)\n",
    "      \n",
    "print(x)\n",
    "print(y)\n",
    "print(dist)"
   ]
  },
  {
   "cell_type": "code",
   "execution_count": 45,
   "id": "ea732ec6-17cb-42f1-85da-9b76c11106cf",
   "metadata": {},
   "outputs": [
    {
     "name": "stdout",
     "output_type": "stream",
     "text": [
      "[[ 1  2  3  4]\n",
      " [ 5  6  7  8]\n",
      " [ 9 10 11 12]]\n",
      "[ 1  2  3  4  5  6  7  8  9 10 11 12]\n",
      "[ 1  5  9  2  6 10  3  7 11  4  8 12]\n",
      "[[ 4  5  6  7]\n",
      " [ 8  9 10 11]]\n",
      "[[ 1  2  3  4]\n",
      " [ 5  6  7  8]\n",
      " [ 9 10 11 12]\n",
      " [ 4  5  6  7]\n",
      " [ 8  9 10 11]]\n"
     ]
    }
   ],
   "source": [
    "#数组形态变化\n",
    "ar4=np.arange(1,13).reshape([3,4])\n",
    "print(ar4)\n",
    "print(ar4.ravel())#返回视图\n",
    "print(ar4.flatten('F'))#返回副本\n",
    "\n",
    "ar5 = np.arange(4,12).reshape([2,4])\n",
    "print(ar5)\n",
    "\n",
    "print(np.vstack((ar4,ar5))) #纵向，返回的是原始输入数组的垂直堆叠的副本，而不是视图"
   ]
  },
  {
   "cell_type": "code",
   "execution_count": 52,
   "id": "e3ebcc9a-ca0a-40fa-ba41-6a4b29347d02",
   "metadata": {},
   "outputs": [
    {
     "name": "stdout",
     "output_type": "stream",
     "text": [
      "[[1 2 3]\n",
      " [4 5 6]\n",
      " [7 8 9]]\n",
      "[[1 2 3]\n",
      " [4 5 6]\n",
      " [7 8 8]]\n",
      "[[1 2 3]\n",
      " [4 5 6]\n",
      " [7 8 9]\n",
      " [1 2 3]\n",
      " [4 5 6]\n",
      " [7 8 8]]\n"
     ]
    }
   ],
   "source": [
    "matr1=np.mat(\"1 2 3;4 5 6;7 8 9\")#不建议使用，新版都用array\n",
    "matr2=np.matrix([[1,2,3],[4,5,6],[7,8,8]])\n",
    "\n",
    "matr3=np.bmat(\"matr1;matr2\")\n",
    "\n",
    "print(matr1)\n",
    "print(matr2)\n",
    "print(matr3)"
   ]
  },
  {
   "cell_type": "code",
   "execution_count": 60,
   "id": "63382dd2-25fe-4208-bfbd-1fd6ac73e42a",
   "metadata": {
    "scrolled": true
   },
   "outputs": [
    {
     "name": "stdout",
     "output_type": "stream",
     "text": [
      "[[ 1  2  3  4]\n",
      " [ 5  6  7  8]\n",
      " [ 9 10 11 12]]\n",
      "NpzFile 'temp/ars1&2.npz' with keys: arr_0, arr_1\n",
      "['arr_0', 'arr_1']\n",
      "[[ 1  2  3  4]\n",
      " [ 5  6  7  8]\n",
      " [ 9 10 11 12]]\n"
     ]
    }
   ],
   "source": [
    "ars1=np.arange(1,13).reshape([3,4])\n",
    "ars2=np.arange(1,13).reshape([4,3])\n",
    "\n",
    "np.save('temp/ars1.npy',ars1)\n",
    "ars1_load=np.load('temp/ars1.npy')\n",
    "print(ars1_load)\n",
    "\n",
    "np.savez('temp/ars1&2.npz',ars1,ars2)\n",
    "ars2_load=np.load('temp/ars1&2.npz')\n",
    "\n",
    "print(ars2_load)\n",
    "print(ars2_load.files)\n",
    "print(ars2_load['arr_0'])"
   ]
  },
  {
   "cell_type": "code",
   "execution_count": 61,
   "id": "b3929a41-b35d-475f-8623-55dfcbc21b55",
   "metadata": {},
   "outputs": [
    {
     "data": {
      "text/plain": [
       "array([[ 1.,  2.,  3.,  4.],\n",
       "       [ 5.,  6.,  7.,  8.],\n",
       "       [ 9., 10., 11., 12.]])"
      ]
     },
     "execution_count": 61,
     "metadata": {},
     "output_type": "execute_result"
    }
   ],
   "source": [
    "np.savetxt('temp/ars_1',ars1,delimiter=\",\")\n",
    "np.loadtxt('temp/ars_1',delimiter=\",\")"
   ]
  },
  {
   "cell_type": "code",
   "execution_count": 6,
   "id": "a149bfc7-1dc3-45f5-b896-1b48fefc1753",
   "metadata": {},
   "outputs": [
    {
     "name": "stdout",
     "output_type": "stream",
     "text": [
      "[[2 8 4]\n",
      " [1 1 9]\n",
      " [7 9 3]]\n",
      "[[1 1 3]\n",
      " [2 8 4]\n",
      " [7 9 9]]\n",
      "[[0 0 0]\n",
      " [1 1 1]\n",
      " [2 2 2]]\n"
     ]
    }
   ],
   "source": [
    "import numpy as np\n",
    "ara1 = np.random.randint(1,10,(3,3))\n",
    "print(ara1)\n",
    "ara1.sort(axis=0)\n",
    "print(ara1)\n",
    "print(ara1.argsort(axis=0))"
   ]
  },
  {
   "cell_type": "code",
   "execution_count": 8,
   "id": "2cd8ccd4-3725-4901-9353-d7709db50766",
   "metadata": {},
   "outputs": [
    {
     "name": "stdout",
     "output_type": "stream",
     "text": [
      "[[1 1 3 1 1 3]\n",
      " [2 8 4 2 8 4]\n",
      " [7 9 9 7 9 9]]\n",
      "[[1 1 1 1 3 3]\n",
      " [2 2 8 8 4 4]\n",
      " [7 7 9 9 9 9]]\n"
     ]
    }
   ],
   "source": [
    "print(np.tile(ara1,2))\n",
    "print(np.repeat(ara1,2,axis = 1))"
   ]
  },
  {
   "cell_type": "code",
   "execution_count": 21,
   "id": "af439c24-256e-4350-a555-367bbc4e401d",
   "metadata": {},
   "outputs": [
    {
     "name": "stdout",
     "output_type": "stream",
     "text": [
      "4.888888888888889\n",
      "[1.66666667 4.66666667 8.33333333]\n",
      "[3 8 9]\n",
      "[2 1 1]\n"
     ]
    }
   ],
   "source": [
    "print(ara1.mean())\n",
    "print(np.mean(ara1,axis=1))#print(ara1.mean(axis=1))\n",
    "print(ara1.max(axis=1))\n",
    "print(ara1.argmax(axis=1))"
   ]
  },
  {
   "cell_type": "code",
   "execution_count": null,
   "id": "c58c9540-58c8-4098-af8a-d03e00e8836f",
   "metadata": {},
   "outputs": [],
   "source": []
  }
 ],
 "metadata": {
  "kernelspec": {
   "display_name": "Python 3 (ipykernel)",
   "language": "python",
   "name": "python3"
  },
  "language_info": {
   "codemirror_mode": {
    "name": "ipython",
    "version": 3
   },
   "file_extension": ".py",
   "mimetype": "text/x-python",
   "name": "python",
   "nbconvert_exporter": "python",
   "pygments_lexer": "ipython3",
   "version": "3.11.7"
  }
 },
 "nbformat": 4,
 "nbformat_minor": 5
}
